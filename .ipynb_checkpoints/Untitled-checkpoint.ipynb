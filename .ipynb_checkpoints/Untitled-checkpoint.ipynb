{
 "cells": [
  {
   "cell_type": "markdown",
   "id": "f51a0883",
   "metadata": {},
   "source": [
    "# Introduction"
   ]
  },
  {
   "cell_type": "markdown",
   "id": "a5b7481a",
   "metadata": {},
   "source": [
    "Do you vaguely know about the signature flavors of different varieties of coffee, or perhaps you might be quite knowledgeable about how roasting levels affect acidity and aftertaste? This may be due to the fact that I work at a boba shop, but I am a total novice to the world of coffee tasting. "
   ]
  },
  {
   "cell_type": "markdown",
   "id": "e01e1679",
   "metadata": {},
   "source": [
    "# Research Question"
   ]
  },
  {
   "cell_type": "markdown",
   "id": "79cd525f",
   "metadata": {},
   "source": [
    "How do the typical flavors of coffee differ based on their country of origin?"
   ]
  },
  {
   "cell_type": "markdown",
   "id": "00db0f40",
   "metadata": {},
   "source": [
    "# Methods\n",
    "\n",
    "Using the opendatasets library, I downloaded my data from Kaggle. After that, I worked on cleaning the datasets by dropping null values.\n",
    "\n",
    "I had a difficult time coming up with a definitive research question to work on, so I started off by creating some visualizations from the dataset to see if I could find any interesting relationships to explore. "
   ]
  },
  {
   "cell_type": "code",
   "execution_count": 156,
   "id": "5d4af14d",
   "metadata": {},
   "outputs": [
    {
     "name": "stdout",
     "output_type": "stream",
     "text": [
      "Skipping, found downloaded files in \"./coffee-quality-data-cqi\" (use force=True to force download)\n",
      "Skipping, found downloaded files in \"./coffeereviewcom-over-7000-ratings-and-reviews\" (use force=True to force download)\n"
     ]
    }
   ],
   "source": [
    "# !pip install opendatasets\n",
    "import numpy as np\n",
    "import pandas as pd\n",
    "import seaborn as sns\n",
    "import opendatasets as od\n",
    "import matplotlib.pyplot as plt\n",
    "from string import punctuation\n",
    "from collections import Counter\n",
    "from nltk.corpus import stopwords\n",
    "\n",
    "od.download(\"https://www.kaggle.com/datasets/fatihb/coffee-quality-data-cqi\")\n",
    "od.download(\"https://www.kaggle.com/datasets/patkle/coffeereviewcom-over-7000-ratings-and-reviews\")"
   ]
  },
  {
   "cell_type": "code",
   "execution_count": 168,
   "id": "e528c90f",
   "metadata": {},
   "outputs": [
    {
     "name": "stdout",
     "output_type": "stream",
     "text": [
      "Index(['Unnamed: 0', 'ID', 'Country of Origin', 'Farm Name', 'Lot Number',\n",
      "       'Mill', 'ICO Number', 'Company', 'Altitude', 'Region', 'Producer',\n",
      "       'Number of Bags', 'Bag Weight', 'In-Country Partner', 'Harvest Year',\n",
      "       'Grading Date', 'Owner', 'Variety', 'Status', 'Processing Method',\n",
      "       'Aroma', 'Flavor', 'Aftertaste', 'Acidity', 'Body', 'Balance',\n",
      "       'Uniformity', 'Clean Cup', 'Sweetness', 'Overall', 'Defects',\n",
      "       'Total Cup Points', 'Moisture Percentage', 'Category One Defects',\n",
      "       'Quakers', 'Color', 'Category Two Defects', 'Expiration',\n",
      "       'Certification Body', 'Certification Address', 'Certification Contact'],\n",
      "      dtype='object')\n"
     ]
    },
    {
     "data": {
      "text/html": [
       "<div>\n",
       "<style scoped>\n",
       "    .dataframe tbody tr th:only-of-type {\n",
       "        vertical-align: middle;\n",
       "    }\n",
       "\n",
       "    .dataframe tbody tr th {\n",
       "        vertical-align: top;\n",
       "    }\n",
       "\n",
       "    .dataframe thead th {\n",
       "        text-align: right;\n",
       "    }\n",
       "</style>\n",
       "<table border=\"1\" class=\"dataframe\">\n",
       "  <thead>\n",
       "    <tr style=\"text-align: right;\">\n",
       "      <th></th>\n",
       "      <th>title</th>\n",
       "      <th>rating</th>\n",
       "      <th>acidity_structure</th>\n",
       "      <th>aftertaste</th>\n",
       "      <th>aroma</th>\n",
       "      <th>body</th>\n",
       "      <th>flavor</th>\n",
       "      <th>with_milk</th>\n",
       "      <th>agtron</th>\n",
       "      <th>blind_assessment</th>\n",
       "      <th>bottom_line</th>\n",
       "      <th>coffee_origin</th>\n",
       "      <th>est_price</th>\n",
       "      <th>notes</th>\n",
       "      <th>review_date</th>\n",
       "      <th>roast_level</th>\n",
       "      <th>roaster</th>\n",
       "      <th>roaster_location</th>\n",
       "      <th>url</th>\n",
       "    </tr>\n",
       "  </thead>\n",
       "  <tbody>\n",
       "    <tr>\n",
       "      <th>0</th>\n",
       "      <td>Bolivia Manantial Gesha</td>\n",
       "      <td>93</td>\n",
       "      <td>9.0</td>\n",
       "      <td>8.0</td>\n",
       "      <td>9</td>\n",
       "      <td>8</td>\n",
       "      <td>9</td>\n",
       "      <td>NaN</td>\n",
       "      <td>60/78</td>\n",
       "      <td>Richly aromatic, floral-toned. Magnolia, cocoa...</td>\n",
       "      <td>This washed Boliva Gesha has all the aromatics...</td>\n",
       "      <td>Caranavi, Bolivia</td>\n",
       "      <td>$30.00/12 ounces</td>\n",
       "      <td>Produced by Angel Mamani Chambi, entirely of t...</td>\n",
       "      <td>January 2023</td>\n",
       "      <td>Medium-Light</td>\n",
       "      <td>Red Rooster Coffee Roaster</td>\n",
       "      <td>Floyd, Virginia</td>\n",
       "      <td>https://www.coffeereview.com/review/bolivia-ma...</td>\n",
       "    </tr>\n",
       "    <tr>\n",
       "      <th>1</th>\n",
       "      <td>Yellow Pacamara Carbonic Maceration Nanolot</td>\n",
       "      <td>92</td>\n",
       "      <td>8.0</td>\n",
       "      <td>8.0</td>\n",
       "      <td>9</td>\n",
       "      <td>8</td>\n",
       "      <td>9</td>\n",
       "      <td>NaN</td>\n",
       "      <td>60/78</td>\n",
       "      <td>Crisply sweet-savory. White peach, hop flowers...</td>\n",
       "      <td>A carbonic-macerated Yellow Pacamara grown in ...</td>\n",
       "      <td>Matagalpa growing region, Nicaragua</td>\n",
       "      <td>$160.00/12 ounces</td>\n",
       "      <td>Produced by Benjamin Weiner at Finca Idealista...</td>\n",
       "      <td>December 2022</td>\n",
       "      <td>Medium-Light</td>\n",
       "      <td>Eccentricity Coffee Co.</td>\n",
       "      <td>Cleveland, Ohio</td>\n",
       "      <td>https://www.coffeereview.com/review/brix-break...</td>\n",
       "    </tr>\n",
       "    <tr>\n",
       "      <th>2</th>\n",
       "      <td>Ethiopia Gera Genji Challa</td>\n",
       "      <td>94</td>\n",
       "      <td>9.0</td>\n",
       "      <td>8.0</td>\n",
       "      <td>9</td>\n",
       "      <td>9</td>\n",
       "      <td>9</td>\n",
       "      <td>NaN</td>\n",
       "      <td>59/77</td>\n",
       "      <td>Delicately aromatic, complex. Lilac, cocoa nib...</td>\n",
       "      <td>A nuanced, multilayered washed Ethiopia cup wi...</td>\n",
       "      <td>Agaro Gera, Jimma Zone, Oromia State, Ethiopia</td>\n",
       "      <td>$28.00/12 ounces</td>\n",
       "      <td>Ethiopia coffees like this one are largely pro...</td>\n",
       "      <td>December 2022</td>\n",
       "      <td>Medium-Light</td>\n",
       "      <td>Mostra Coffee</td>\n",
       "      <td>San Diego, California</td>\n",
       "      <td>https://www.coffeereview.com/review/ethiopia-g...</td>\n",
       "    </tr>\n",
       "    <tr>\n",
       "      <th>3</th>\n",
       "      <td>Yirgacheffe Mengesha Natural</td>\n",
       "      <td>94</td>\n",
       "      <td>9.0</td>\n",
       "      <td>8.0</td>\n",
       "      <td>9</td>\n",
       "      <td>9</td>\n",
       "      <td>9</td>\n",
       "      <td>NaN</td>\n",
       "      <td>60/77</td>\n",
       "      <td>High-toned, fruit-driven. Boysenberry, pear, c...</td>\n",
       "      <td>A fruit medley in a cup — think boysenberry an...</td>\n",
       "      <td>Yirgacheffe growing region, southern Ethiopia</td>\n",
       "      <td>$20.50/12 ounces</td>\n",
       "      <td>Produced at Mengesha Farm from selections of i...</td>\n",
       "      <td>November 2022</td>\n",
       "      <td>Medium-Light</td>\n",
       "      <td>Regent Coffee</td>\n",
       "      <td>Glendale, California</td>\n",
       "      <td>https://www.coffeereview.com/review/yirgacheff...</td>\n",
       "    </tr>\n",
       "    <tr>\n",
       "      <th>4</th>\n",
       "      <td>Tropical Summer Colombia La Sierra</td>\n",
       "      <td>93</td>\n",
       "      <td>9.0</td>\n",
       "      <td>8.0</td>\n",
       "      <td>9</td>\n",
       "      <td>8</td>\n",
       "      <td>9</td>\n",
       "      <td>NaN</td>\n",
       "      <td>60/77</td>\n",
       "      <td>Fruit-driven, crisply chocolaty. Goji berry, d...</td>\n",
       "      <td>An experimentally processed Colombia, sweetly ...</td>\n",
       "      <td>La Sierra, Cauca Department, Colombia</td>\n",
       "      <td>$18.99/8 ounces</td>\n",
       "      <td>Produced by smallholding farmers from trees of...</td>\n",
       "      <td>November 2022</td>\n",
       "      <td>Medium-Light</td>\n",
       "      <td>Merge Coffee Company</td>\n",
       "      <td>Harrisonburg, Virginia</td>\n",
       "      <td>https://www.coffeereview.com/review/tropical-s...</td>\n",
       "    </tr>\n",
       "  </tbody>\n",
       "</table>\n",
       "</div>"
      ],
      "text/plain": [
       "                                         title rating  acidity_structure  \\\n",
       "0                      Bolivia Manantial Gesha     93                9.0   \n",
       "1  Yellow Pacamara Carbonic Maceration Nanolot     92                8.0   \n",
       "2                   Ethiopia Gera Genji Challa     94                9.0   \n",
       "3                 Yirgacheffe Mengesha Natural     94                9.0   \n",
       "4           Tropical Summer Colombia La Sierra     93                9.0   \n",
       "\n",
       "   aftertaste aroma body flavor with_milk agtron  \\\n",
       "0         8.0     9    8      9       NaN  60/78   \n",
       "1         8.0     9    8      9       NaN  60/78   \n",
       "2         8.0     9    9      9       NaN  59/77   \n",
       "3         8.0     9    9      9       NaN  60/77   \n",
       "4         8.0     9    8      9       NaN  60/77   \n",
       "\n",
       "                                    blind_assessment  \\\n",
       "0  Richly aromatic, floral-toned. Magnolia, cocoa...   \n",
       "1  Crisply sweet-savory. White peach, hop flowers...   \n",
       "2  Delicately aromatic, complex. Lilac, cocoa nib...   \n",
       "3  High-toned, fruit-driven. Boysenberry, pear, c...   \n",
       "4  Fruit-driven, crisply chocolaty. Goji berry, d...   \n",
       "\n",
       "                                         bottom_line  \\\n",
       "0  This washed Boliva Gesha has all the aromatics...   \n",
       "1  A carbonic-macerated Yellow Pacamara grown in ...   \n",
       "2  A nuanced, multilayered washed Ethiopia cup wi...   \n",
       "3  A fruit medley in a cup — think boysenberry an...   \n",
       "4  An experimentally processed Colombia, sweetly ...   \n",
       "\n",
       "                                    coffee_origin          est_price  \\\n",
       "0                               Caranavi, Bolivia   $30.00/12 ounces   \n",
       "1             Matagalpa growing region, Nicaragua  $160.00/12 ounces   \n",
       "2  Agaro Gera, Jimma Zone, Oromia State, Ethiopia   $28.00/12 ounces   \n",
       "3   Yirgacheffe growing region, southern Ethiopia   $20.50/12 ounces   \n",
       "4           La Sierra, Cauca Department, Colombia    $18.99/8 ounces   \n",
       "\n",
       "                                               notes    review_date  \\\n",
       "0  Produced by Angel Mamani Chambi, entirely of t...   January 2023   \n",
       "1  Produced by Benjamin Weiner at Finca Idealista...  December 2022   \n",
       "2  Ethiopia coffees like this one are largely pro...  December 2022   \n",
       "3  Produced at Mengesha Farm from selections of i...  November 2022   \n",
       "4  Produced by smallholding farmers from trees of...  November 2022   \n",
       "\n",
       "    roast_level                     roaster        roaster_location  \\\n",
       "0  Medium-Light  Red Rooster Coffee Roaster         Floyd, Virginia   \n",
       "1  Medium-Light     Eccentricity Coffee Co.         Cleveland, Ohio   \n",
       "2  Medium-Light               Mostra Coffee   San Diego, California   \n",
       "3  Medium-Light               Regent Coffee    Glendale, California   \n",
       "4  Medium-Light        Merge Coffee Company  Harrisonburg, Virginia   \n",
       "\n",
       "                                                 url  \n",
       "0  https://www.coffeereview.com/review/bolivia-ma...  \n",
       "1  https://www.coffeereview.com/review/brix-break...  \n",
       "2  https://www.coffeereview.com/review/ethiopia-g...  \n",
       "3  https://www.coffeereview.com/review/yirgacheff...  \n",
       "4  https://www.coffeereview.com/review/tropical-s...  "
      ]
     },
     "execution_count": 168,
     "metadata": {},
     "output_type": "execute_result"
    }
   ],
   "source": [
    "coffee = pd.read_csv('coffee-quality-data-cqi/df_arabica_clean.csv')\n",
    "reviews = pd.read_csv('coffeereviewcom-over-7000-ratings-and-reviews/reviews_feb_2023.csv')\n",
    "print(coffee.columns)\n",
    "coffee['Altitude'].isnull().values\n",
    "coffee = coffee.drop(105)\n",
    "coffee.head()\n",
    "reviews.head()"
   ]
  },
  {
   "cell_type": "code",
   "execution_count": 138,
   "id": "71ec359c",
   "metadata": {},
   "outputs": [],
   "source": [
    "coffee['Minimum Altitude'] = coffee['Altitude'].str.extract(r'([0-9]+)').astype(int)\n",
    "min_alt = coffee['Minimum Altitude']"
   ]
  },
  {
   "cell_type": "code",
   "execution_count": 124,
   "id": "11db1db7",
   "metadata": {},
   "outputs": [
    {
     "name": "stderr",
     "output_type": "stream",
     "text": [
      "No artists with labels found to put in legend.  Note that artists whose label start with an underscore are ignored when legend() is called with no argument.\n"
     ]
    },
    {
     "data": {
      "text/plain": [
       "<matplotlib.legend.Legend at 0x7fedc899bd60>"
      ]
     },
     "execution_count": 124,
     "metadata": {},
     "output_type": "execute_result"
    },
    {
     "data": {
      "image/png": "[encoded data removed]",
      "text/plain": [
       "<Figure size 640x480 with 1 Axes>"
      ]
     },
     "metadata": {},
     "output_type": "display_data"
    }
   ],
   "source": [
    "plt1 = sns.boxplot(data=coffee, x='Color', y='Total Cup Points', labels=['Color'])\n",
    "plt1.set(xlabel=None)\n",
    "plt1.set(xticklabels=[])  \n",
    "plt1.tick_params(bottom=False) \n",
    "plt.legend()\n",
    "#sns.barplot(data=coffee)"
   ]
  },
  {
   "cell_type": "code",
   "execution_count": 207,
   "id": "c35cd45f",
   "metadata": {},
   "outputs": [
    {
     "name": "stdout",
     "output_type": "stream",
     "text": [
      "['Taiwan' 'Guatemala' 'Colombia' 'Honduras' 'Thailand' 'Ethiopia' 'Brazil'\n",
      " 'Costa Rica' 'Nicaragua' 'El Salvador']\n"
     ]
    },
    {
     "data": {
      "text/plain": [
       "(array([0, 1, 2, 3, 4, 5, 6, 7, 8, 9]),\n",
       " [Text(0, 0, 'Colombia'),\n",
       "  Text(1, 0, 'Taiwan'),\n",
       "  Text(2, 0, 'Costa Rica'),\n",
       "  Text(3, 0, 'Guatemala'),\n",
       "  Text(4, 0, 'Ethiopia'),\n",
       "  Text(5, 0, 'Thailand'),\n",
       "  Text(6, 0, 'Brazil'),\n",
       "  Text(7, 0, 'Nicaragua'),\n",
       "  Text(8, 0, 'Honduras'),\n",
       "  Text(9, 0, 'El Salvador')])"
      ]
     },
     "execution_count": 207,
     "metadata": {},
     "output_type": "execute_result"
    },
    {
     "data": {
      "image/png": "[encoded data removed]",
      "text/plain": [
       "<Figure size 640x480 with 1 Axes>"
      ]
     },
     "metadata": {},
     "output_type": "display_data"
    }
   ],
   "source": [
    "# Visualizing the most common countries of origin for coffee\n",
    "top10countries = coffee['Country of Origin'].value_counts().index.values[:10]\n",
    "print(top10countries)\n",
    "sns.countplot(coffee[coffee['Country of Origin'].isin(top10countries)], x='Country of Origin')\n",
    "plt.xticks(rotation=90)"
   ]
  },
  {
   "cell_type": "markdown",
   "id": "78286f2c",
   "metadata": {},
   "source": [
    "The most common country of origin by far is Taiwan! Next, I wanted to see how the flavors of Taiwanese coffee were described and if they differed any from the other most common countries."
   ]
  },
  {
   "cell_type": "code",
   "execution_count": 204,
   "id": "ff401dff",
   "metadata": {},
   "outputs": [
    {
     "name": "stderr",
     "output_type": "stream",
     "text": [
      "/var/folders/tj/6cbf61h57dx0t7748zv6kv2r0000gn/T/ipykernel_29003/373827849.py:5: FutureWarning: The default value of regex will change from True to False in a future version. In addition, single character regular expressions will *not* be treated as literal strings when regex=True.\n",
      "  tokens = tokens.str.replace(char, \"\")\n"
     ]
    }
   ],
   "source": [
    "reviews = reviews.dropna(subset=['coffee_origin'])\n",
    "tokens = reviews['blind_assessment']\n",
    "\n",
    "for char in punctuation:\n",
    "    tokens = tokens.str.replace(char, \"\")\n",
    "\n",
    "reviews['stripped assessment'] = tokens.str.lower().str.split()\n",
    "taiwanrev = reviews[reviews['coffee_origin'].str.contains('Taiwan')]\n",
    "taiwanrev['stripped assessment']\n",
    "\n",
    "# helper function that counts all the most common words in a series of lists\n",
    "# stopwords can be specified, but will default to the ones contained in the default NLTK stopwords list\n",
    "def topfiftywords(series, stopwords=stopwords.words('english')): \n",
    "\n",
    "    full_list = []  # list containing all words of all texts\n",
    "    for rev in series:  # loop over lists in df\n",
    "        full_list += rev\n",
    "\n",
    "    full_list = [word for word in full_list if word not in stopwords]\n",
    "    counter = Counter(full_list)\n",
    "    return counter.most_common(50)\n",
    "\n",
    "topfiftywords(taiwanrev['stripped assessment'])\n",
    "\n",
    "coffee_words = ['cup', 'aroma', 'finish', 'mouthfeel', 'structure', 'notes'] # stopwords related specifically to coffee"
   ]
  },
  {
   "cell_type": "markdown",
   "id": "6e121861",
   "metadata": {},
   "source": [
    "From the top fifty most common words in blind reviews for Taiwanese coffees, the five most common flavor/aroma words are:\n",
    "*    chocolate\n",
    "*    sweet\n",
    "*    dark\n",
    "*    almond\n",
    "*    lemon\n",
    "\n",
    "The most common texture descriptors:\n",
    "*    syrupy\n",
    "*    crisply\n",
    "*    richly\n",
    "*    delicate\n",
    "*    full"
   ]
  },
  {
   "cell_type": "code",
   "execution_count": 206,
   "id": "eafbbe3a",
   "metadata": {},
   "outputs": [
    {
     "name": "stdout",
     "output_type": "stream",
     "text": [
      "Taiwan : [('chocolate', 28), ('acidity', 24), ('sweet', 24), ('dark', 11), ('almond', 11), ('lemon', 10), ('syrupy', 9), ('crisply', 9), ('flowers', 9), ('zest', 8), ('cedar', 8), ('richly', 8), ('pink', 7), ('baking', 7), ('fruittoned', 7), ('delicate', 7), ('sugar', 7), ('sandalwood', 6), ('small', 6), ('full', 6), ('consolidates', 6), ('long', 6), ('fir', 6), ('gently', 6), ('bright', 6), ('honey', 6), ('crisp', 6), ('lightly', 6), ('ken', 6), ('balanced', 5), ('dried', 5), ('brisk', 5), ('espresso', 5), ('chocolaty', 5), ('delicately', 5), ('parts', 5), ('milk', 5), ('brown', 5), ('lively', 5), ('drying', 5), ('fruit', 5), ('hint', 5), ('magnolia', 4), ('evaluated', 4), ('berry', 4), ('three', 4), ('rich', 4), ('sweettart', 4), ('around', 4), ('leads', 4)]\n",
      "Guatemala : [('chocolate', 524), ('sweet', 351), ('acidity', 338), ('cedar', 208), ('dark', 191), ('milk', 167), ('flowers', 165), ('syrupy', 157), ('richly', 142), ('fruit', 140), ('sweetly', 139), ('rich', 139), ('balanced', 128), ('crisp', 123), ('gently', 122), ('cocoa', 122), ('espresso', 118), ('small', 110), ('evaluated', 109), ('chocolaty', 108), ('tart', 104), ('zest', 101), ('hints', 101), ('hint', 100), ('almond', 98), ('long', 94), ('parts', 93), ('orange', 91), ('full', 86), ('hazelnut', 84), ('lightly', 82), ('crisply', 81), ('cherry', 81), ('three', 77), ('round', 76), ('freshcut', 74), ('bright', 73), ('floral', 72), ('deeply', 71), ('nut', 70), ('drying', 69), ('complex', 69), ('deep', 69), ('apricot', 66), ('baking', 65), ('satiny', 65), ('flavor', 65), ('sweettoned', 65), ('lemon', 64), ('black', 63)]\n",
      "Colombia : [('chocolate', 600), ('acidity', 490), ('sweet', 440), ('cedar', 228), ('cocoa', 208), ('syrupy', 207), ('richly', 204), ('dark', 196), ('flowers', 194), ('fruit', 185), ('sweetly', 184), ('rich', 176), ('tart', 169), ('crisp', 168), ('milk', 165), ('balanced', 159), ('long', 158), ('hint', 148), ('chocolaty', 140), ('gently', 137), ('nib', 133), ('zest', 133), ('floral', 128), ('crisply', 122), ('orange', 119), ('lightly', 118), ('juicy', 116), ('bright', 114), ('almond', 113), ('full', 110), ('espresso', 110), ('evaluated', 107), ('deeply', 104), ('small', 101), ('sweettoned', 100), ('resonant', 100), ('hints', 100), ('freshcut', 99), ('consolidates', 98), ('baking', 95), ('cherry', 95), ('apricot', 95), ('delicate', 93), ('lemon', 92), ('drying', 91), ('caramel', 91), ('parts', 88), ('brisk', 87), ('complex', 86), ('flavor', 83)]\n",
      "Honduras : [('chocolate', 108), ('acidity', 87), ('sweet', 72), ('cedar', 47), ('richly', 40), ('flowers', 40), ('dark', 39), ('syrupy', 37), ('rich', 37), ('sweetly', 36), ('milk', 36), ('crisp', 33), ('cocoa', 33), ('fruit', 31), ('tart', 31), ('sweettoned', 30), ('balanced', 29), ('evaluated', 27), ('espresso', 27), ('small', 27), ('orange', 26), ('nib', 25), ('consolidates', 24), ('lightly', 24), ('zest', 23), ('parts', 23), ('dried', 23), ('drying', 23), ('crisply', 21), ('gently', 21), ('hazelnut', 20), ('almond', 20), ('hints', 20), ('flavor', 20), ('chocolaty', 19), ('nuttoned', 19), ('hint', 19), ('baking', 18), ('oak', 18), ('lemon', 18), ('brisk', 18), ('round', 18), ('cherry', 17), ('cashew', 17), ('full', 17), ('fir', 17), ('floral', 17), ('three', 16), ('freshcut', 16), ('butter', 15)]\n",
      "Thailand : [('chocolate', 79), ('rich', 30), ('dark', 29), ('acidity', 29), ('sweet', 28), ('milk', 27), ('cedar', 25), ('fruit', 25), ('evaluated', 23), ('espresso', 23), ('small', 23), ('balanced', 23), ('lightly', 22), ('syrupy', 22), ('gently', 21), ('flowers', 20), ('hint', 20), ('parts', 19), ('sweetly', 15), ('crisp', 15), ('fir', 15), ('flavor', 15), ('three', 14), ('hints', 14), ('richly', 13), ('tart', 13), ('cherry', 12), ('nut', 12), ('drying', 11), ('almond', 11), ('long', 11), ('pungent', 11), ('sweettoned', 10), ('silky', 10), ('freshcut', 10), ('chocolaty', 9), ('lemon', 9), ('round', 9), ('orange', 9), ('coffee', 9), ('continued', 9), ('cocoa', 8), ('quietly', 8), ('zest', 8), ('deep', 8), ('delicate', 8), ('resonant', 8), ('scorched', 8), ('molasses', 8), ('delicately', 8)]\n",
      "Ethiopia : [('chocolate', 1122), ('acidity', 1056), ('sweet', 910), ('flowers', 501), ('cocoa', 490), ('richly', 475), ('nib', 462), ('dark', 454), ('syrupy', 446), ('sweetly', 440), ('long', 418), ('crisp', 417), ('cedar', 401), ('tart', 383), ('zest', 362), ('fruit', 352), ('rich', 347), ('floral', 335), ('milk', 333), ('juicy', 330), ('lemon', 318), ('hint', 284), ('bright', 282), ('balanced', 282), ('complex', 261), ('espresso', 254), ('resonant', 254), ('almond', 253), ('sandalwood', 253), ('evaluated', 247), ('gently', 246), ('lightly', 244), ('small', 242), ('drying', 239), ('sweettart', 238), ('crisply', 231), ('deeply', 231), ('silky', 230), ('delicate', 225), ('full', 223), ('roasted', 222), ('dried', 216), ('cacao', 214), ('orange', 210), ('flavor', 210), ('consolidates', 206), ('satiny', 204), ('parts', 200), ('lively', 199), ('flavorsaturated', 194)]\n",
      "Brazil : [('chocolate', 420), ('sweet', 230), ('milk', 192), ('cedar', 163), ('espresso', 148), ('small', 145), ('evaluated', 134), ('acidity', 133), ('dark', 126), ('parts', 123), ('fruit', 103), ('flowers', 98), ('richly', 95), ('syrupy', 93), ('rich', 93), ('crisp', 92), ('three', 89), ('sweetly', 86), ('long', 86), ('balanced', 85), ('cocoa', 81), ('hint', 79), ('gently', 78), ('hints', 69), ('nut', 67), ('chocolaty', 66), ('ken', 65), ('lightly', 64), ('orange', 62), ('flavor', 62), ('floral', 61), ('drying', 54), ('caramel', 53), ('zest', 53), ('sweettoned', 53), ('pungent', 51), ('delicate', 50), ('crisply', 48), ('almond', 48), ('tart', 48), ('nuttoned', 47), ('freshcut', 47), ('deeply', 47), ('hazelnut', 47), ('round', 46), ('short', 46), ('apricot', 45), ('full', 44), ('bittersweet', 44), ('complex', 43)]\n",
      "Costa Rica : [('chocolate', 320), ('sweet', 225), ('acidity', 219), ('cedar', 112), ('flowers', 112), ('syrupy', 108), ('dark', 106), ('rich', 105), ('milk', 97), ('richly', 90), ('sweetly', 87), ('crisp', 86), ('balanced', 83), ('fruit', 78), ('orange', 75), ('cocoa', 74), ('espresso', 74), ('long', 74), ('small', 73), ('evaluated', 71), ('zest', 70), ('parts', 66), ('hint', 65), ('caramel', 65), ('gently', 63), ('tart', 62), ('nib', 62), ('crisply', 61), ('lightly', 61), ('deeply', 60), ('consolidates', 59), ('full', 57), ('three', 57), ('round', 57), ('almond', 54), ('floral', 53), ('nut', 53), ('sweettart', 50), ('delicate', 50), ('drying', 49), ('freshcut', 48), ('sweettoned', 46), ('chocolaty', 46), ('lemon', 46), ('ken', 46), ('brisk', 45), ('resonant', 45), ('silky', 45), ('cherry', 45), ('flavor', 45)]\n",
      "Nicaragua : [('chocolate', 116), ('acidity', 95), ('sweet', 92), ('rich', 46), ('fruit', 44), ('syrupy', 41), ('sweetly', 38), ('cedar', 38), ('dark', 38), ('balanced', 36), ('richly', 34), ('flowers', 33), ('cocoa', 32), ('crisp', 31), ('coffee', 31), ('hints', 30), ('deep', 29), ('long', 26), ('gently', 26), ('lemon', 26), ('milk', 25), ('orange', 25), ('tart', 24), ('nib', 23), ('cherry', 23), ('almond', 23), ('pungent', 22), ('nut', 21), ('freshcut', 20), ('fir', 19), ('chocolaty', 19), ('bright', 19), ('sweettoned', 19), ('hint', 19), ('round', 19), ('flavor', 19), ('delicate', 18), ('lightly', 18), ('zest', 18), ('full', 18), ('roasted', 18), ('crisply', 17), ('espresso', 17), ('resonant', 17), ('caramel', 16), ('evaluated', 15), ('drying', 15), ('delicately', 15), ('floral', 15), ('consolidates', 14)]\n",
      "El Salvador : [('chocolate', 209), ('acidity', 165), ('sweet', 159), ('fruit', 92), ('dark', 89), ('flowers', 81), ('long', 75), ('rich', 74), ('syrupy', 72), ('cedar', 69), ('sweetly', 57), ('milk', 57), ('hint', 55), ('cocoa', 53), ('richly', 53), ('tart', 53), ('crisp', 50), ('balanced', 50), ('nut', 45), ('cherry', 42), ('gently', 41), ('floral', 41), ('round', 40), ('lightly', 40), ('hints', 40), ('nib', 39), ('chocolaty', 39), ('bright', 39), ('coffee', 39), ('deep', 38), ('espresso', 37), ('almond', 36), ('zest', 36), ('citrus', 36), ('flavor', 35), ('orange', 34), ('evaluated', 34), ('complex', 34), ('roasted', 34), ('resonant', 33), ('full', 32), ('caramel', 32), ('pungent', 32), ('deeply', 31), ('small', 31), ('delicate', 30), ('crisply', 29), ('sweettoned', 28), ('molasses', 28), ('drying', 28)]\n"
     ]
    }
   ],
   "source": [
    "# Repeating this process for some other countries\n",
    "for country in top10countries:\n",
    "    print(country, ':', topfiftywords(reviews[reviews['coffee_origin'].str.contains(country)]['stripped assessment'], \\\n",
    "                                      stopwords.words('english') + coffee_words))\n"
   ]
  },
  {
   "cell_type": "markdown",
   "id": "1e3dc1c8",
   "metadata": {},
   "source": [
    "# Results"
   ]
  },
  {
   "cell_type": "markdown",
   "id": "e41a787c",
   "metadata": {},
   "source": [
    "Regardless of country, the top three words are almost always 'chocolate', 'acidity', and 'sweet', and they usually appear in that specific order. Some exceptions are Brazil, where the third most common word was 'milk', and Thailand, whose second and third most common words were 'rich' and 'dark'. \n",
    "\n",
    "However, going deeper into the word list shows some differences that pop up among countries. For example, Costa Rica's coffee is often described with 'cedar', 'flowers', and 'dark', whereas Ethiopia's is 'flowers', 'cocoa', and 'nib'. "
   ]
  },
  {
   "cell_type": "markdown",
   "id": "ec61bbaa",
   "metadata": {},
   "source": [
    "# Discussion"
   ]
  },
  {
   "cell_type": "markdown",
   "id": "bb6f2a22",
   "metadata": {},
   "source": [
    "I encountered a suprising amout of difficulty trying to wrangle a large dataset with multiple types of data. "
   ]
  }
 ],
 "metadata": {
  "kernelspec": {
   "display_name": "Python 3 (ipykernel)",
   "language": "python",
   "name": "python3"
  },
  "language_info": {
   "codemirror_mode": {
    "name": "ipython",
    "version": 3
   },
   "file_extension": ".py",
   "mimetype": "text/x-python",
   "name": "python",
   "nbconvert_exporter": "python",
   "pygments_lexer": "ipython3",
   "version": "3.10.9"
  }
 },
 "nbformat": 4,
 "nbformat_minor": 5
}
