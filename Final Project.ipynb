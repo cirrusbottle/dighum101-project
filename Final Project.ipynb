{
 "cells": [
  {
   "cell_type": "markdown",
   "id": "0eff9979",
   "metadata": {},
   "source": [
    "# Coffee Around the World: How do coffee flavors differ based on its country of origin?"
   ]
  },
  {
   "cell_type": "markdown",
   "id": "8980e9b6",
   "metadata": {},
   "source": [
    "Whenever people discuss the finer points of wine, using terms like 'earthy' or 'full-bodied', I am left at a loss. To me, all wine tastes like is disappointing juice. This applies to a lot of other drinks too, especially coffee.\n",
    "\n",
    "Do you vaguely know about the signature flavors of different varieties of coffee, or perhaps you might be quite knowledgeable about how roasting levels affect acidity and aftertaste? This may be due to the fact that I work at a boba shop, but I can't tell apart a blond roast from a dark roast to save my life, past the amount of jitteriness it'll give me."
   ]
  },
  {
   "cell_type": "markdown",
   "id": "6848f9b8",
   "metadata": {},
   "source": [
    "# Downloading and Cleaning Data\n",
    "\n",
    "Using the opendatasets library, I downloaded my data from Kaggle. After that, I worked on cleaning the datasets by dropping null values.\n",
    "\n",
    "I had a difficult time coming up with a definitive research question to work on, so I started off by creating some visualizations from the dataset to see if I could find any interesting relationships to explore. "
   ]
  },
  {
   "cell_type": "code",
   "execution_count": 1,
   "id": "d5c8daa5",
   "metadata": {},
   "outputs": [
    {
     "name": "stdout",
     "output_type": "stream",
     "text": [
      "Skipping, found downloaded files in \"./coffee-quality-data-cqi\" (use force=True to force download)\n",
      "Skipping, found downloaded files in \"./coffeereviewcom-over-7000-ratings-and-reviews\" (use force=True to force download)\n"
     ]
    }
   ],
   "source": [
    "# !pip install opendatasets\n",
    "import numpy as np\n",
    "import pandas as pd\n",
    "import seaborn as sns\n",
    "import opendatasets as od\n",
    "import matplotlib.pyplot as plt\n",
    "from string import punctuation\n",
    "from collections import Counter\n",
    "from nltk.corpus import stopwords\n",
    "\n",
    "od.download(\"https://www.kaggle.com/datasets/fatihb/coffee-quality-data-cqi\")\n",
    "od.download(\"https://www.kaggle.com/datasets/patkle/coffeereviewcom-over-7000-ratings-and-reviews\")"
   ]
  },
  {
   "cell_type": "markdown",
   "id": "c8b8d6be",
   "metadata": {},
   "source": [
    "# Taking a look at how each dataframe is structured"
   ]
  },
  {
   "cell_type": "code",
   "execution_count": 2,
   "id": "8a28cbac",
   "metadata": {
    "scrolled": true
   },
   "outputs": [
    {
     "name": "stdout",
     "output_type": "stream",
     "text": [
      "Index(['Unnamed: 0', 'ID', 'Country of Origin', 'Farm Name', 'Lot Number',\n",
      "       'Mill', 'ICO Number', 'Company', 'Altitude', 'Region', 'Producer',\n",
      "       'Number of Bags', 'Bag Weight', 'In-Country Partner', 'Harvest Year',\n",
      "       'Grading Date', 'Owner', 'Variety', 'Status', 'Processing Method',\n",
      "       'Aroma', 'Flavor', 'Aftertaste', 'Acidity', 'Body', 'Balance',\n",
      "       'Uniformity', 'Clean Cup', 'Sweetness', 'Overall', 'Defects',\n",
      "       'Total Cup Points', 'Moisture Percentage', 'Category One Defects',\n",
      "       'Quakers', 'Color', 'Category Two Defects', 'Expiration',\n",
      "       'Certification Body', 'Certification Address', 'Certification Contact'],\n",
      "      dtype='object')\n"
     ]
    },
    {
     "data": {
      "text/html": [
       "<div>\n",
       "<style scoped>\n",
       "    .dataframe tbody tr th:only-of-type {\n",
       "        vertical-align: middle;\n",
       "    }\n",
       "\n",
       "    .dataframe tbody tr th {\n",
       "        vertical-align: top;\n",
       "    }\n",
       "\n",
       "    .dataframe thead th {\n",
       "        text-align: right;\n",
       "    }\n",
       "</style>\n",
       "<table border=\"1\" class=\"dataframe\">\n",
       "  <thead>\n",
       "    <tr style=\"text-align: right;\">\n",
       "      <th></th>\n",
       "      <th>Unnamed: 0</th>\n",
       "      <th>ID</th>\n",
       "      <th>Country of Origin</th>\n",
       "      <th>Farm Name</th>\n",
       "      <th>Lot Number</th>\n",
       "      <th>Mill</th>\n",
       "      <th>ICO Number</th>\n",
       "      <th>Company</th>\n",
       "      <th>Altitude</th>\n",
       "      <th>Region</th>\n",
       "      <th>...</th>\n",
       "      <th>Total Cup Points</th>\n",
       "      <th>Moisture Percentage</th>\n",
       "      <th>Category One Defects</th>\n",
       "      <th>Quakers</th>\n",
       "      <th>Color</th>\n",
       "      <th>Category Two Defects</th>\n",
       "      <th>Expiration</th>\n",
       "      <th>Certification Body</th>\n",
       "      <th>Certification Address</th>\n",
       "      <th>Certification Contact</th>\n",
       "    </tr>\n",
       "  </thead>\n",
       "  <tbody>\n",
       "    <tr>\n",
       "      <th>0</th>\n",
       "      <td>0</td>\n",
       "      <td>0</td>\n",
       "      <td>Colombia</td>\n",
       "      <td>Finca El Paraiso</td>\n",
       "      <td>CQU2022015</td>\n",
       "      <td>Finca El Paraiso</td>\n",
       "      <td>NaN</td>\n",
       "      <td>Coffee Quality Union</td>\n",
       "      <td>1700-1930</td>\n",
       "      <td>Piendamo,Cauca</td>\n",
       "      <td>...</td>\n",
       "      <td>89.33</td>\n",
       "      <td>11.8</td>\n",
       "      <td>0</td>\n",
       "      <td>0</td>\n",
       "      <td>green</td>\n",
       "      <td>3</td>\n",
       "      <td>September 21st, 2023</td>\n",
       "      <td>Japan Coffee Exchange</td>\n",
       "      <td>〒413-0002 静岡県熱海市伊豆山１１７３−５８ 1173-58 Izusan, Ata...</td>\n",
       "      <td>松澤　宏樹　Koju Matsuzawa - +81(0)9085642901</td>\n",
       "    </tr>\n",
       "    <tr>\n",
       "      <th>1</th>\n",
       "      <td>1</td>\n",
       "      <td>1</td>\n",
       "      <td>Taiwan</td>\n",
       "      <td>Royal Bean Geisha Estate</td>\n",
       "      <td>The 2022 Pacific Rim Coffee Summit,T037</td>\n",
       "      <td>Royal Bean Geisha Estate</td>\n",
       "      <td>NaN</td>\n",
       "      <td>Taiwan Coffee Laboratory</td>\n",
       "      <td>1200</td>\n",
       "      <td>Chiayi</td>\n",
       "      <td>...</td>\n",
       "      <td>87.58</td>\n",
       "      <td>10.5</td>\n",
       "      <td>0</td>\n",
       "      <td>0</td>\n",
       "      <td>blue-green</td>\n",
       "      <td>0</td>\n",
       "      <td>November 15th, 2023</td>\n",
       "      <td>Taiwan Coffee Laboratory 台灣咖啡研究室</td>\n",
       "      <td>QAHWAH CO., LTD 4F, No. 225, Sec. 3, Beixin Rd...</td>\n",
       "      <td>Lin, Jen-An Neil 林仁安 - 886-289116612</td>\n",
       "    </tr>\n",
       "    <tr>\n",
       "      <th>2</th>\n",
       "      <td>2</td>\n",
       "      <td>2</td>\n",
       "      <td>Laos</td>\n",
       "      <td>OKLAO coffee farms</td>\n",
       "      <td>The 2022 Pacific Rim Coffee Summit,LA01</td>\n",
       "      <td>oklao coffee processing plant</td>\n",
       "      <td>NaN</td>\n",
       "      <td>Taiwan Coffee Laboratory</td>\n",
       "      <td>1300</td>\n",
       "      <td>Laos Borofen Plateau</td>\n",
       "      <td>...</td>\n",
       "      <td>87.42</td>\n",
       "      <td>10.4</td>\n",
       "      <td>0</td>\n",
       "      <td>0</td>\n",
       "      <td>yellowish</td>\n",
       "      <td>2</td>\n",
       "      <td>November 15th, 2023</td>\n",
       "      <td>Taiwan Coffee Laboratory 台灣咖啡研究室</td>\n",
       "      <td>QAHWAH CO., LTD 4F, No. 225, Sec. 3, Beixin Rd...</td>\n",
       "      <td>Lin, Jen-An Neil 林仁安 - 886-289116612</td>\n",
       "    </tr>\n",
       "    <tr>\n",
       "      <th>3</th>\n",
       "      <td>3</td>\n",
       "      <td>3</td>\n",
       "      <td>Costa Rica</td>\n",
       "      <td>La Cumbre</td>\n",
       "      <td>CQU2022017</td>\n",
       "      <td>La Montana Tarrazu MIll</td>\n",
       "      <td>NaN</td>\n",
       "      <td>Coffee Quality Union</td>\n",
       "      <td>1900</td>\n",
       "      <td>Los Santos,Tarrazu</td>\n",
       "      <td>...</td>\n",
       "      <td>87.17</td>\n",
       "      <td>11.8</td>\n",
       "      <td>0</td>\n",
       "      <td>0</td>\n",
       "      <td>green</td>\n",
       "      <td>0</td>\n",
       "      <td>September 21st, 2023</td>\n",
       "      <td>Japan Coffee Exchange</td>\n",
       "      <td>〒413-0002 静岡県熱海市伊豆山１１７３−５８ 1173-58 Izusan, Ata...</td>\n",
       "      <td>松澤　宏樹　Koju Matsuzawa - +81(0)9085642901</td>\n",
       "    </tr>\n",
       "    <tr>\n",
       "      <th>4</th>\n",
       "      <td>4</td>\n",
       "      <td>4</td>\n",
       "      <td>Colombia</td>\n",
       "      <td>Finca Santuario</td>\n",
       "      <td>CQU2023002</td>\n",
       "      <td>Finca Santuario</td>\n",
       "      <td>NaN</td>\n",
       "      <td>Coffee Quality Union</td>\n",
       "      <td>1850-2100</td>\n",
       "      <td>Popayan,Cauca</td>\n",
       "      <td>...</td>\n",
       "      <td>87.08</td>\n",
       "      <td>11.6</td>\n",
       "      <td>0</td>\n",
       "      <td>2</td>\n",
       "      <td>yellow-green</td>\n",
       "      <td>2</td>\n",
       "      <td>March 5th, 2024</td>\n",
       "      <td>Japan Coffee Exchange</td>\n",
       "      <td>〒413-0002 静岡県熱海市伊豆山１１７３−５８ 1173-58 Izusan, Ata...</td>\n",
       "      <td>松澤　宏樹　Koju Matsuzawa - +81(0)9085642901</td>\n",
       "    </tr>\n",
       "  </tbody>\n",
       "</table>\n",
       "<p>5 rows × 41 columns</p>\n",
       "</div>"
      ],
      "text/plain": [
       "   Unnamed: 0  ID Country of Origin                 Farm Name  \\\n",
       "0           0   0          Colombia          Finca El Paraiso   \n",
       "1           1   1            Taiwan  Royal Bean Geisha Estate   \n",
       "2           2   2              Laos        OKLAO coffee farms   \n",
       "3           3   3        Costa Rica                 La Cumbre   \n",
       "4           4   4          Colombia           Finca Santuario   \n",
       "\n",
       "                                Lot Number                           Mill  \\\n",
       "0                               CQU2022015               Finca El Paraiso   \n",
       "1  The 2022 Pacific Rim Coffee Summit,T037       Royal Bean Geisha Estate   \n",
       "2  The 2022 Pacific Rim Coffee Summit,LA01  oklao coffee processing plant   \n",
       "3                               CQU2022017        La Montana Tarrazu MIll   \n",
       "4                               CQU2023002                Finca Santuario   \n",
       "\n",
       "  ICO Number                   Company   Altitude                Region  ...  \\\n",
       "0        NaN      Coffee Quality Union  1700-1930        Piendamo,Cauca  ...   \n",
       "1        NaN  Taiwan Coffee Laboratory       1200                Chiayi  ...   \n",
       "2        NaN  Taiwan Coffee Laboratory       1300  Laos Borofen Plateau  ...   \n",
       "3        NaN      Coffee Quality Union       1900    Los Santos,Tarrazu  ...   \n",
       "4        NaN      Coffee Quality Union  1850-2100         Popayan,Cauca  ...   \n",
       "\n",
       "  Total Cup Points  Moisture Percentage Category One Defects Quakers  \\\n",
       "0            89.33                 11.8                    0       0   \n",
       "1            87.58                 10.5                    0       0   \n",
       "2            87.42                 10.4                    0       0   \n",
       "3            87.17                 11.8                    0       0   \n",
       "4            87.08                 11.6                    0       2   \n",
       "\n",
       "          Color Category Two Defects            Expiration  \\\n",
       "0         green                    3  September 21st, 2023   \n",
       "1    blue-green                    0   November 15th, 2023   \n",
       "2     yellowish                    2   November 15th, 2023   \n",
       "3         green                    0  September 21st, 2023   \n",
       "4  yellow-green                    2       March 5th, 2024   \n",
       "\n",
       "                 Certification Body  \\\n",
       "0             Japan Coffee Exchange   \n",
       "1  Taiwan Coffee Laboratory 台灣咖啡研究室   \n",
       "2  Taiwan Coffee Laboratory 台灣咖啡研究室   \n",
       "3             Japan Coffee Exchange   \n",
       "4             Japan Coffee Exchange   \n",
       "\n",
       "                               Certification Address  \\\n",
       "0  〒413-0002 静岡県熱海市伊豆山１１７３−５８ 1173-58 Izusan, Ata...   \n",
       "1  QAHWAH CO., LTD 4F, No. 225, Sec. 3, Beixin Rd...   \n",
       "2  QAHWAH CO., LTD 4F, No. 225, Sec. 3, Beixin Rd...   \n",
       "3  〒413-0002 静岡県熱海市伊豆山１１７３−５８ 1173-58 Izusan, Ata...   \n",
       "4  〒413-0002 静岡県熱海市伊豆山１１７３−５８ 1173-58 Izusan, Ata...   \n",
       "\n",
       "                     Certification Contact  \n",
       "0  松澤　宏樹　Koju Matsuzawa - +81(0)9085642901  \n",
       "1     Lin, Jen-An Neil 林仁安 - 886-289116612  \n",
       "2     Lin, Jen-An Neil 林仁安 - 886-289116612  \n",
       "3  松澤　宏樹　Koju Matsuzawa - +81(0)9085642901  \n",
       "4  松澤　宏樹　Koju Matsuzawa - +81(0)9085642901  \n",
       "\n",
       "[5 rows x 41 columns]"
      ]
     },
     "execution_count": 2,
     "metadata": {},
     "output_type": "execute_result"
    }
   ],
   "source": [
    "# Loading the dataframes\n",
    "coffee = pd.read_csv('coffee-quality-data-cqi/df_arabica_clean.csv')\n",
    "reviews = pd.read_csv('coffeereviewcom-over-7000-ratings-and-reviews/reviews_feb_2023.csv')\n",
    "\n",
    "# Checking the columns\n",
    "print(coffee.columns)\n",
    "coffee.head()"
   ]
  },
  {
   "cell_type": "markdown",
   "id": "5feca074",
   "metadata": {},
   "source": [
    "Kaggle also allows you to view data analyses that other users have made public, so I checked an exploratory data analysis that someone else performed (https://www.kaggle.com/code/alejandrochapa/exploratory-data-analysis-arabica-coffee) to understand some of the columns better.\n",
    "\n",
    "For example, I considered using the 'Category One Defects' or the 'Category Two Defects', but it turns out that these columns are mostly empty, making them not so useful for this project."
   ]
  },
  {
   "cell_type": "code",
   "execution_count": 3,
   "id": "6892f8b5",
   "metadata": {},
   "outputs": [
    {
     "name": "stdout",
     "output_type": "stream",
     "text": [
      "Index(['title', 'rating', 'acidity_structure', 'aftertaste', 'aroma', 'body',\n",
      "       'flavor', 'with_milk', 'agtron', 'blind_assessment', 'bottom_line',\n",
      "       'coffee_origin', 'est_price', 'notes', 'review_date', 'roast_level',\n",
      "       'roaster', 'roaster_location', 'url'],\n",
      "      dtype='object')\n"
     ]
    },
    {
     "data": {
      "text/html": [
       "<div>\n",
       "<style scoped>\n",
       "    .dataframe tbody tr th:only-of-type {\n",
       "        vertical-align: middle;\n",
       "    }\n",
       "\n",
       "    .dataframe tbody tr th {\n",
       "        vertical-align: top;\n",
       "    }\n",
       "\n",
       "    .dataframe thead th {\n",
       "        text-align: right;\n",
       "    }\n",
       "</style>\n",
       "<table border=\"1\" class=\"dataframe\">\n",
       "  <thead>\n",
       "    <tr style=\"text-align: right;\">\n",
       "      <th></th>\n",
       "      <th>title</th>\n",
       "      <th>rating</th>\n",
       "      <th>acidity_structure</th>\n",
       "      <th>aftertaste</th>\n",
       "      <th>aroma</th>\n",
       "      <th>body</th>\n",
       "      <th>flavor</th>\n",
       "      <th>with_milk</th>\n",
       "      <th>agtron</th>\n",
       "      <th>blind_assessment</th>\n",
       "      <th>bottom_line</th>\n",
       "      <th>coffee_origin</th>\n",
       "      <th>est_price</th>\n",
       "      <th>notes</th>\n",
       "      <th>review_date</th>\n",
       "      <th>roast_level</th>\n",
       "      <th>roaster</th>\n",
       "      <th>roaster_location</th>\n",
       "      <th>url</th>\n",
       "    </tr>\n",
       "  </thead>\n",
       "  <tbody>\n",
       "    <tr>\n",
       "      <th>0</th>\n",
       "      <td>Bolivia Manantial Gesha</td>\n",
       "      <td>93</td>\n",
       "      <td>9.0</td>\n",
       "      <td>8.0</td>\n",
       "      <td>9</td>\n",
       "      <td>8</td>\n",
       "      <td>9</td>\n",
       "      <td>NaN</td>\n",
       "      <td>60/78</td>\n",
       "      <td>Richly aromatic, floral-toned. Magnolia, cocoa...</td>\n",
       "      <td>This washed Boliva Gesha has all the aromatics...</td>\n",
       "      <td>Caranavi, Bolivia</td>\n",
       "      <td>$30.00/12 ounces</td>\n",
       "      <td>Produced by Angel Mamani Chambi, entirely of t...</td>\n",
       "      <td>January 2023</td>\n",
       "      <td>Medium-Light</td>\n",
       "      <td>Red Rooster Coffee Roaster</td>\n",
       "      <td>Floyd, Virginia</td>\n",
       "      <td>https://www.coffeereview.com/review/bolivia-ma...</td>\n",
       "    </tr>\n",
       "    <tr>\n",
       "      <th>1</th>\n",
       "      <td>Yellow Pacamara Carbonic Maceration Nanolot</td>\n",
       "      <td>92</td>\n",
       "      <td>8.0</td>\n",
       "      <td>8.0</td>\n",
       "      <td>9</td>\n",
       "      <td>8</td>\n",
       "      <td>9</td>\n",
       "      <td>NaN</td>\n",
       "      <td>60/78</td>\n",
       "      <td>Crisply sweet-savory. White peach, hop flowers...</td>\n",
       "      <td>A carbonic-macerated Yellow Pacamara grown in ...</td>\n",
       "      <td>Matagalpa growing region, Nicaragua</td>\n",
       "      <td>$160.00/12 ounces</td>\n",
       "      <td>Produced by Benjamin Weiner at Finca Idealista...</td>\n",
       "      <td>December 2022</td>\n",
       "      <td>Medium-Light</td>\n",
       "      <td>Eccentricity Coffee Co.</td>\n",
       "      <td>Cleveland, Ohio</td>\n",
       "      <td>https://www.coffeereview.com/review/brix-break...</td>\n",
       "    </tr>\n",
       "    <tr>\n",
       "      <th>2</th>\n",
       "      <td>Ethiopia Gera Genji Challa</td>\n",
       "      <td>94</td>\n",
       "      <td>9.0</td>\n",
       "      <td>8.0</td>\n",
       "      <td>9</td>\n",
       "      <td>9</td>\n",
       "      <td>9</td>\n",
       "      <td>NaN</td>\n",
       "      <td>59/77</td>\n",
       "      <td>Delicately aromatic, complex. Lilac, cocoa nib...</td>\n",
       "      <td>A nuanced, multilayered washed Ethiopia cup wi...</td>\n",
       "      <td>Agaro Gera, Jimma Zone, Oromia State, Ethiopia</td>\n",
       "      <td>$28.00/12 ounces</td>\n",
       "      <td>Ethiopia coffees like this one are largely pro...</td>\n",
       "      <td>December 2022</td>\n",
       "      <td>Medium-Light</td>\n",
       "      <td>Mostra Coffee</td>\n",
       "      <td>San Diego, California</td>\n",
       "      <td>https://www.coffeereview.com/review/ethiopia-g...</td>\n",
       "    </tr>\n",
       "    <tr>\n",
       "      <th>3</th>\n",
       "      <td>Yirgacheffe Mengesha Natural</td>\n",
       "      <td>94</td>\n",
       "      <td>9.0</td>\n",
       "      <td>8.0</td>\n",
       "      <td>9</td>\n",
       "      <td>9</td>\n",
       "      <td>9</td>\n",
       "      <td>NaN</td>\n",
       "      <td>60/77</td>\n",
       "      <td>High-toned, fruit-driven. Boysenberry, pear, c...</td>\n",
       "      <td>A fruit medley in a cup — think boysenberry an...</td>\n",
       "      <td>Yirgacheffe growing region, southern Ethiopia</td>\n",
       "      <td>$20.50/12 ounces</td>\n",
       "      <td>Produced at Mengesha Farm from selections of i...</td>\n",
       "      <td>November 2022</td>\n",
       "      <td>Medium-Light</td>\n",
       "      <td>Regent Coffee</td>\n",
       "      <td>Glendale, California</td>\n",
       "      <td>https://www.coffeereview.com/review/yirgacheff...</td>\n",
       "    </tr>\n",
       "    <tr>\n",
       "      <th>4</th>\n",
       "      <td>Tropical Summer Colombia La Sierra</td>\n",
       "      <td>93</td>\n",
       "      <td>9.0</td>\n",
       "      <td>8.0</td>\n",
       "      <td>9</td>\n",
       "      <td>8</td>\n",
       "      <td>9</td>\n",
       "      <td>NaN</td>\n",
       "      <td>60/77</td>\n",
       "      <td>Fruit-driven, crisply chocolaty. Goji berry, d...</td>\n",
       "      <td>An experimentally processed Colombia, sweetly ...</td>\n",
       "      <td>La Sierra, Cauca Department, Colombia</td>\n",
       "      <td>$18.99/8 ounces</td>\n",
       "      <td>Produced by smallholding farmers from trees of...</td>\n",
       "      <td>November 2022</td>\n",
       "      <td>Medium-Light</td>\n",
       "      <td>Merge Coffee Company</td>\n",
       "      <td>Harrisonburg, Virginia</td>\n",
       "      <td>https://www.coffeereview.com/review/tropical-s...</td>\n",
       "    </tr>\n",
       "  </tbody>\n",
       "</table>\n",
       "</div>"
      ],
      "text/plain": [
       "                                         title rating  acidity_structure  \\\n",
       "0                      Bolivia Manantial Gesha     93                9.0   \n",
       "1  Yellow Pacamara Carbonic Maceration Nanolot     92                8.0   \n",
       "2                   Ethiopia Gera Genji Challa     94                9.0   \n",
       "3                 Yirgacheffe Mengesha Natural     94                9.0   \n",
       "4           Tropical Summer Colombia La Sierra     93                9.0   \n",
       "\n",
       "   aftertaste aroma body flavor with_milk agtron  \\\n",
       "0         8.0     9    8      9       NaN  60/78   \n",
       "1         8.0     9    8      9       NaN  60/78   \n",
       "2         8.0     9    9      9       NaN  59/77   \n",
       "3         8.0     9    9      9       NaN  60/77   \n",
       "4         8.0     9    8      9       NaN  60/77   \n",
       "\n",
       "                                    blind_assessment  \\\n",
       "0  Richly aromatic, floral-toned. Magnolia, cocoa...   \n",
       "1  Crisply sweet-savory. White peach, hop flowers...   \n",
       "2  Delicately aromatic, complex. Lilac, cocoa nib...   \n",
       "3  High-toned, fruit-driven. Boysenberry, pear, c...   \n",
       "4  Fruit-driven, crisply chocolaty. Goji berry, d...   \n",
       "\n",
       "                                         bottom_line  \\\n",
       "0  This washed Boliva Gesha has all the aromatics...   \n",
       "1  A carbonic-macerated Yellow Pacamara grown in ...   \n",
       "2  A nuanced, multilayered washed Ethiopia cup wi...   \n",
       "3  A fruit medley in a cup — think boysenberry an...   \n",
       "4  An experimentally processed Colombia, sweetly ...   \n",
       "\n",
       "                                    coffee_origin          est_price  \\\n",
       "0                               Caranavi, Bolivia   $30.00/12 ounces   \n",
       "1             Matagalpa growing region, Nicaragua  $160.00/12 ounces   \n",
       "2  Agaro Gera, Jimma Zone, Oromia State, Ethiopia   $28.00/12 ounces   \n",
       "3   Yirgacheffe growing region, southern Ethiopia   $20.50/12 ounces   \n",
       "4           La Sierra, Cauca Department, Colombia    $18.99/8 ounces   \n",
       "\n",
       "                                               notes    review_date  \\\n",
       "0  Produced by Angel Mamani Chambi, entirely of t...   January 2023   \n",
       "1  Produced by Benjamin Weiner at Finca Idealista...  December 2022   \n",
       "2  Ethiopia coffees like this one are largely pro...  December 2022   \n",
       "3  Produced at Mengesha Farm from selections of i...  November 2022   \n",
       "4  Produced by smallholding farmers from trees of...  November 2022   \n",
       "\n",
       "    roast_level                     roaster        roaster_location  \\\n",
       "0  Medium-Light  Red Rooster Coffee Roaster         Floyd, Virginia   \n",
       "1  Medium-Light     Eccentricity Coffee Co.         Cleveland, Ohio   \n",
       "2  Medium-Light               Mostra Coffee   San Diego, California   \n",
       "3  Medium-Light               Regent Coffee    Glendale, California   \n",
       "4  Medium-Light        Merge Coffee Company  Harrisonburg, Virginia   \n",
       "\n",
       "                                                 url  \n",
       "0  https://www.coffeereview.com/review/bolivia-ma...  \n",
       "1  https://www.coffeereview.com/review/brix-break...  \n",
       "2  https://www.coffeereview.com/review/ethiopia-g...  \n",
       "3  https://www.coffeereview.com/review/yirgacheff...  \n",
       "4  https://www.coffeereview.com/review/tropical-s...  "
      ]
     },
     "execution_count": 3,
     "metadata": {},
     "output_type": "execute_result"
    }
   ],
   "source": [
    "print(reviews.columns)\n",
    "reviews.head()"
   ]
  },
  {
   "cell_type": "markdown",
   "id": "781b7593",
   "metadata": {},
   "source": [
    "# Exploring the data"
   ]
  },
  {
   "cell_type": "code",
   "execution_count": 4,
   "id": "29a71860",
   "metadata": {},
   "outputs": [],
   "source": [
    "# Converting the Altitude column to integers that can be easily compared\n",
    "\n",
    "coffee['Altitude'].isnull().values\n",
    "coffee = coffee.drop(105)\n",
    "\n",
    "coffee['Minimum Altitude'] = coffee['Altitude'].str.extract(r'([0-9]+)').astype(int)\n",
    "min_alt = coffee['Minimum Altitude']"
   ]
  },
  {
   "cell_type": "markdown",
   "id": "c55beec2",
   "metadata": {},
   "source": [
    "After spending some time fiddling with the altitude of coffee, I felt a little discouraged, since it seemed like flavors were evenly distributed throughout different altitude levels. Instead, I tried to look through other coffee characteristics like its color. \n",
    "\n",
    "When picking other columns to sift through, I avoided most of the numeric ratings. This is because people tend to use only a small section of the range given to them, so differences can be hard to spot.\n",
    "\n",
    "Because I was working with a fairly large dataset, I decided to use a box plot to better understand the data's distribution."
   ]
  },
  {
   "cell_type": "code",
   "execution_count": 8,
   "id": "7069da67",
   "metadata": {},
   "outputs": [
    {
     "data": {
      "image/png": "[encoded data removed]",
      "text/plain": [
       "<Figure size 640x480 with 1 Axes>"
      ]
     },
     "metadata": {},
     "output_type": "display_data"
    }
   ],
   "source": [
    "plt1 = sns.boxplot(data=coffee, x='Color', y='Total Cup Points', labels=['Color'])\n",
    "plt1.set(xlabel=None)\n",
    "plt1.set(xticklabels=[])  \n",
    "plt1.tick_params(bottom=False) \n",
    "#sns.barplot(data=coffee)"
   ]
  },
  {
   "cell_type": "code",
   "execution_count": 7,
   "id": "2529a4d7",
   "metadata": {},
   "outputs": [
    {
     "ename": "IndexError",
     "evalue": "list index out of range",
     "output_type": "error",
     "traceback": [
      "\u001b[0;31m---------------------------------------------------------------------------\u001b[0m",
      "\u001b[0;31mIndexError\u001b[0m                                Traceback (most recent call last)",
      "Cell \u001b[0;32mIn[7], line 6\u001b[0m\n\u001b[1;32m      3\u001b[0m prices \u001b[38;5;241m=\u001b[39m priced_rev[\u001b[38;5;124m'\u001b[39m\u001b[38;5;124mest_price\u001b[39m\u001b[38;5;124m'\u001b[39m]\u001b[38;5;241m.\u001b[39mstr\u001b[38;5;241m.\u001b[39mfindall(\u001b[38;5;124mr\u001b[39m\u001b[38;5;124m'\u001b[39m\u001b[38;5;124m\\\u001b[39m\u001b[38;5;124m$([0-9\u001b[39m\u001b[38;5;124m\\\u001b[39m\u001b[38;5;124m.]+)/([0-9]+)\u001b[39m\u001b[38;5;124m'\u001b[39m)\n\u001b[1;32m      5\u001b[0m \u001b[38;5;66;03m# Not all of the coffee prices are in the same format, so I can't retrieve the unit price the same way for all of them\u001b[39;00m\n\u001b[0;32m----> 6\u001b[0m prices \u001b[38;5;241m=\u001b[39m [price[\u001b[38;5;241m0\u001b[39m]\u001b[38;5;241m/\u001b[39mprice[\u001b[38;5;241m1\u001b[39m] \u001b[38;5;28;01mfor\u001b[39;00m price \u001b[38;5;129;01min\u001b[39;00m prices]\n",
      "Cell \u001b[0;32mIn[7], line 6\u001b[0m, in \u001b[0;36m<listcomp>\u001b[0;34m(.0)\u001b[0m\n\u001b[1;32m      3\u001b[0m prices \u001b[38;5;241m=\u001b[39m priced_rev[\u001b[38;5;124m'\u001b[39m\u001b[38;5;124mest_price\u001b[39m\u001b[38;5;124m'\u001b[39m]\u001b[38;5;241m.\u001b[39mstr\u001b[38;5;241m.\u001b[39mfindall(\u001b[38;5;124mr\u001b[39m\u001b[38;5;124m'\u001b[39m\u001b[38;5;124m\\\u001b[39m\u001b[38;5;124m$([0-9\u001b[39m\u001b[38;5;124m\\\u001b[39m\u001b[38;5;124m.]+)/([0-9]+)\u001b[39m\u001b[38;5;124m'\u001b[39m)\n\u001b[1;32m      5\u001b[0m \u001b[38;5;66;03m# Not all of the coffee prices are in the same format, so I can't retrieve the unit price the same way for all of them\u001b[39;00m\n\u001b[0;32m----> 6\u001b[0m prices \u001b[38;5;241m=\u001b[39m [price[\u001b[38;5;241m0\u001b[39m]\u001b[38;5;241m/\u001b[39m\u001b[43mprice\u001b[49m\u001b[43m[\u001b[49m\u001b[38;5;241;43m1\u001b[39;49m\u001b[43m]\u001b[49m \u001b[38;5;28;01mfor\u001b[39;00m price \u001b[38;5;129;01min\u001b[39;00m prices]\n",
      "\u001b[0;31mIndexError\u001b[0m: list index out of range"
     ]
    }
   ],
   "source": [
    "# Standardizing prices for coffee\n",
    "priced_rev = reviews[~reviews['est_price'].isna()]\n",
    "prices = priced_rev['est_price'].str.findall(r'\\$([0-9\\.]+)/([0-9]+)')\n",
    "\n",
    "# Not all of the coffee prices are in the same format, so I can't retrieve the unit price the same way for all of them\n",
    "prices = [price[0]/price[1] for price in prices] "
   ]
  },
  {
   "cell_type": "code",
   "execution_count": 9,
   "id": "466a24d4",
   "metadata": {},
   "outputs": [
    {
     "name": "stdout",
     "output_type": "stream",
     "text": [
      "['Taiwan' 'Guatemala' 'Colombia' 'Honduras' 'Thailand' 'Ethiopia' 'Brazil'\n",
      " 'Costa Rica' 'Nicaragua' 'El Salvador']\n"
     ]
    },
    {
     "data": {
      "text/plain": [
       "(array([0, 1, 2, 3, 4, 5, 6, 7, 8, 9]),\n",
       " [Text(0, 0, 'Colombia'),\n",
       "  Text(1, 0, 'Taiwan'),\n",
       "  Text(2, 0, 'Costa Rica'),\n",
       "  Text(3, 0, 'Guatemala'),\n",
       "  Text(4, 0, 'Ethiopia'),\n",
       "  Text(5, 0, 'Thailand'),\n",
       "  Text(6, 0, 'Brazil'),\n",
       "  Text(7, 0, 'Nicaragua'),\n",
       "  Text(8, 0, 'Honduras'),\n",
       "  Text(9, 0, 'El Salvador')])"
      ]
     },
     "execution_count": 9,
     "metadata": {},
     "output_type": "execute_result"
    },
    {
     "data": {
      "image/png": "[encoded data removed]",
      "text/plain": [
       "<Figure size 640x480 with 1 Axes>"
      ]
     },
     "metadata": {},
     "output_type": "display_data"
    }
   ],
   "source": [
    "# Visualizing the most common countries of origin for coffee\n",
    "top10countries = coffee['Country of Origin'].value_counts().index.values[:10]\n",
    "print(top10countries)\n",
    "sns.countplot(coffee[coffee['Country of Origin'].isin(top10countries)], x='Country of Origin')\n",
    "plt.xticks(rotation=90)"
   ]
  },
  {
   "cell_type": "markdown",
   "id": "622078fa",
   "metadata": {},
   "source": [
    "The most common country of origin by far is Taiwan! Next, I wanted to see how the flavors of Taiwanese coffee were described and if they differed any from the other most common countries."
   ]
  },
  {
   "cell_type": "code",
   "execution_count": 18,
   "id": "8d07e218",
   "metadata": {},
   "outputs": [
    {
     "name": "stdout",
     "output_type": "stream",
     "text": [
      "[('cup', 33), ('aroma', 30), ('finish', 29), ('chocolate', 28), ('mouthfeel', 27), ('acidity', 24), ('sweet', 24), ('structure', 16), ('notes', 14), ('dark', 11), ('almond', 11), ('lemon', 10), ('syrupy', 9), ('crisply', 9), ('flowers', 9), ('zest', 8), ('cedar', 8), ('richly', 8), ('pink', 7), ('baking', 7), ('fruittoned', 7), ('delicate', 7), ('sugar', 7), ('sandalwood', 6), ('small', 6), ('full', 6), ('consolidates', 6), ('long', 6), ('fir', 6), ('gently', 6), ('bright', 6), ('honey', 6), ('crisp', 6), ('lightly', 6), ('ken', 6), ('balanced', 5), ('dried', 5), ('brisk', 5), ('espresso', 5), ('chocolaty', 5), ('delicately', 5), ('parts', 5), ('milk', 5), ('brown', 5), ('lively', 5), ('drying', 5), ('fruit', 5), ('hint', 5), ('magnolia', 4), ('evaluated', 4)]\n"
     ]
    },
    {
     "name": "stderr",
     "output_type": "stream",
     "text": [
      "/var/folders/tj/6cbf61h57dx0t7748zv6kv2r0000gn/T/ipykernel_32380/693831505.py:5: FutureWarning: The default value of regex will change from True to False in a future version. In addition, single character regular expressions will *not* be treated as literal strings when regex=True.\n",
      "  tokens = tokens.str.replace(char, \"\")\n"
     ]
    }
   ],
   "source": [
    "reviews = reviews.dropna(subset=['coffee_origin'])\n",
    "tokens = reviews['blind_assessment']\n",
    "\n",
    "for char in punctuation:\n",
    "    tokens = tokens.str.replace(char, \"\")\n",
    "\n",
    "reviews['stripped assessment'] = tokens.str.lower().str.split()\n",
    "taiwanrev = reviews[reviews['coffee_origin'].str.contains('Taiwan')]\n",
    "taiwanrev['stripped assessment']\n",
    "\n",
    "# helper function that counts all the most common words in a series of lists\n",
    "# stopwords can be specified, but will default to the ones contained in the default NLTK stopwords list\n",
    "def topfiftywords(series, stopwords=stopwords.words('english')): \n",
    "\n",
    "    full_list = []  # list containing all words of all texts\n",
    "    for rev in series:  # loop over lists in df\n",
    "        full_list += rev\n",
    "\n",
    "    full_list = [word for word in full_list if word not in stopwords]\n",
    "    counter = Counter(full_list)\n",
    "    return counter.most_common(50)\n",
    "\n",
    "print(topfiftywords(taiwanrev['stripped assessment']))\n",
    "\n",
    "coffee_words = ['cup', 'aroma', 'finish', 'mouthfeel', 'structure', 'notes'] # stopwords related specifically to coffee"
   ]
  },
  {
   "cell_type": "markdown",
   "id": "9a787af7",
   "metadata": {},
   "source": [
    "From the top fifty most common words in blind reviews for Taiwanese coffees, the five most common flavor/aroma words are:\n",
    "*    chocolate\n",
    "*    sweet\n",
    "*    dark\n",
    "*    almond\n",
    "*    lemon\n",
    "\n",
    "The most common texture-related:\n",
    "*    syrupy\n",
    "*    crisply\n",
    "*    richly\n",
    "*    delicate\n",
    "*    full"
   ]
  },
  {
   "cell_type": "code",
   "execution_count": 16,
   "id": "e1014af2",
   "metadata": {},
   "outputs": [
    {
     "name": "stdout",
     "output_type": "stream",
     "text": [
      "Taiwan : ['chocolate', 'acidity', 'sweet', 'dark', 'almond', 'lemon', 'syrupy', 'crisply', 'flowers', 'zest', 'cedar', 'richly', 'pink', 'baking', 'fruittoned', 'delicate', 'sugar', 'sandalwood', 'small', 'full', 'consolidates', 'long', 'fir', 'gently', 'bright', 'honey', 'crisp', 'lightly', 'ken', 'balanced', 'dried', 'brisk', 'espresso', 'chocolaty', 'delicately', 'parts', 'milk', 'brown', 'lively', 'drying', 'fruit', 'hint', 'magnolia', 'evaluated', 'berry', 'three', 'rich', 'sweettart', 'around', 'leads']\n",
      "\n",
      "Guatemala : ['chocolate', 'sweet', 'acidity', 'cedar', 'dark', 'milk', 'flowers', 'syrupy', 'richly', 'fruit', 'sweetly', 'rich', 'balanced', 'crisp', 'gently', 'cocoa', 'espresso', 'small', 'evaluated', 'chocolaty', 'tart', 'zest', 'hints', 'hint', 'almond', 'long', 'parts', 'orange', 'full', 'hazelnut', 'lightly', 'crisply', 'cherry', 'three', 'round', 'freshcut', 'bright', 'floral', 'deeply', 'nut', 'drying', 'complex', 'deep', 'apricot', 'baking', 'satiny', 'flavor', 'sweettoned', 'lemon', 'black']\n",
      "\n",
      "Colombia : ['chocolate', 'acidity', 'sweet', 'cedar', 'cocoa', 'syrupy', 'richly', 'dark', 'flowers', 'fruit', 'sweetly', 'rich', 'tart', 'crisp', 'milk', 'balanced', 'long', 'hint', 'chocolaty', 'gently', 'nib', 'zest', 'floral', 'crisply', 'orange', 'lightly', 'juicy', 'bright', 'almond', 'full', 'espresso', 'evaluated', 'deeply', 'small', 'sweettoned', 'resonant', 'hints', 'freshcut', 'consolidates', 'baking', 'cherry', 'apricot', 'delicate', 'lemon', 'drying', 'caramel', 'parts', 'brisk', 'complex', 'flavor']\n",
      "\n",
      "Honduras : ['chocolate', 'acidity', 'sweet', 'cedar', 'richly', 'flowers', 'dark', 'syrupy', 'rich', 'sweetly', 'milk', 'crisp', 'cocoa', 'fruit', 'tart', 'sweettoned', 'balanced', 'evaluated', 'espresso', 'small', 'orange', 'nib', 'consolidates', 'lightly', 'zest', 'parts', 'dried', 'drying', 'crisply', 'gently', 'hazelnut', 'almond', 'hints', 'flavor', 'chocolaty', 'nuttoned', 'hint', 'baking', 'oak', 'lemon', 'brisk', 'round', 'cherry', 'cashew', 'full', 'fir', 'floral', 'three', 'freshcut', 'butter']\n",
      "\n",
      "Thailand : ['chocolate', 'rich', 'dark', 'acidity', 'sweet', 'milk', 'cedar', 'fruit', 'evaluated', 'espresso', 'small', 'balanced', 'lightly', 'syrupy', 'gently', 'flowers', 'hint', 'parts', 'sweetly', 'crisp', 'fir', 'flavor', 'three', 'hints', 'richly', 'tart', 'cherry', 'nut', 'drying', 'almond', 'long', 'pungent', 'sweettoned', 'silky', 'freshcut', 'chocolaty', 'lemon', 'round', 'orange', 'coffee', 'continued', 'cocoa', 'quietly', 'zest', 'deep', 'delicate', 'resonant', 'scorched', 'molasses', 'delicately']\n",
      "\n",
      "Ethiopia : ['chocolate', 'acidity', 'sweet', 'flowers', 'cocoa', 'richly', 'nib', 'dark', 'syrupy', 'sweetly', 'long', 'crisp', 'cedar', 'tart', 'zest', 'fruit', 'rich', 'floral', 'milk', 'juicy', 'lemon', 'hint', 'bright', 'balanced', 'complex', 'espresso', 'resonant', 'almond', 'sandalwood', 'evaluated', 'gently', 'lightly', 'small', 'drying', 'sweettart', 'crisply', 'deeply', 'silky', 'delicate', 'full', 'roasted', 'dried', 'cacao', 'orange', 'flavor', 'consolidates', 'satiny', 'parts', 'lively', 'flavorsaturated']\n",
      "\n",
      "Brazil : ['chocolate', 'sweet', 'milk', 'cedar', 'espresso', 'small', 'evaluated', 'acidity', 'dark', 'parts', 'fruit', 'flowers', 'richly', 'syrupy', 'rich', 'crisp', 'three', 'sweetly', 'long', 'balanced', 'cocoa', 'hint', 'gently', 'hints', 'nut', 'chocolaty', 'ken', 'lightly', 'orange', 'flavor', 'floral', 'drying', 'caramel', 'zest', 'sweettoned', 'pungent', 'delicate', 'crisply', 'almond', 'tart', 'nuttoned', 'freshcut', 'deeply', 'hazelnut', 'round', 'short', 'apricot', 'full', 'bittersweet', 'complex']\n",
      "\n",
      "Costa Rica : ['chocolate', 'sweet', 'acidity', 'cedar', 'flowers', 'syrupy', 'dark', 'rich', 'milk', 'richly', 'sweetly', 'crisp', 'balanced', 'fruit', 'orange', 'cocoa', 'espresso', 'long', 'small', 'evaluated', 'zest', 'parts', 'hint', 'caramel', 'gently', 'tart', 'nib', 'crisply', 'lightly', 'deeply', 'consolidates', 'full', 'three', 'round', 'almond', 'floral', 'nut', 'sweettart', 'delicate', 'drying', 'freshcut', 'sweettoned', 'chocolaty', 'lemon', 'ken', 'brisk', 'resonant', 'silky', 'cherry', 'flavor']\n",
      "\n",
      "Nicaragua : ['chocolate', 'acidity', 'sweet', 'rich', 'fruit', 'syrupy', 'sweetly', 'cedar', 'dark', 'balanced', 'richly', 'flowers', 'cocoa', 'crisp', 'coffee', 'hints', 'deep', 'long', 'gently', 'lemon', 'milk', 'orange', 'tart', 'nib', 'cherry', 'almond', 'pungent', 'nut', 'freshcut', 'fir', 'chocolaty', 'bright', 'sweettoned', 'hint', 'round', 'flavor', 'delicate', 'lightly', 'zest', 'full', 'roasted', 'crisply', 'espresso', 'resonant', 'caramel', 'evaluated', 'drying', 'delicately', 'floral', 'consolidates']\n",
      "\n",
      "El Salvador : ['chocolate', 'acidity', 'sweet', 'fruit', 'dark', 'flowers', 'long', 'rich', 'syrupy', 'cedar', 'sweetly', 'milk', 'hint', 'cocoa', 'richly', 'tart', 'crisp', 'balanced', 'nut', 'cherry', 'gently', 'floral', 'round', 'lightly', 'hints', 'nib', 'chocolaty', 'bright', 'coffee', 'deep', 'espresso', 'almond', 'zest', 'citrus', 'flavor', 'orange', 'evaluated', 'complex', 'roasted', 'resonant', 'full', 'caramel', 'pungent', 'deeply', 'small', 'delicate', 'crisply', 'sweettoned', 'molasses', 'drying']\n",
      "\n"
     ]
    }
   ],
   "source": [
    "# Repeating this process for some other countries\n",
    "\n",
    "for country in top10countries:\n",
    "    common_words = topfiftywords(reviews[reviews['coffee_origin'].str.contains(country)]['stripped assessment'], \\\n",
    "                                      stopwords.words('english') + coffee_words)\n",
    "    words = [words[0] for words in common_words]\n",
    "    counts = [words[1] for words in common_words]\n",
    "    print(country, ':', words, end='\\n\\n')"
   ]
  },
  {
   "cell_type": "markdown",
   "id": "5a68f16f",
   "metadata": {},
   "source": [
    "Regardless of country, the top three words are almost always 'chocolate', 'acidity', and 'sweet', and they usually appear in that specific order. Some exceptions are Brazil, where the third most common word was 'milk', and Thailand, whose second and third most common words were 'rich' and 'dark'. \n",
    "\n",
    "However, going deeper into the word list shows some differences that pop up among countries. For example, Costa Rica's coffee is often described with 'cedar', 'flowers', and 'dark', whereas Ethiopia's is 'flowers', 'cocoa', and 'nib'. \n",
    "\n",
    "\n",
    "I also planned on looking at which flavors were associated with higher prices, but I ran out of time doing so."
   ]
  },
  {
   "cell_type": "markdown",
   "id": "2d0645e4",
   "metadata": {},
   "source": [
    "# Personal Thoughts"
   ]
  },
  {
   "cell_type": "markdown",
   "id": "e56219b8",
   "metadata": {},
   "source": [
    "Being that I had some more experience with the data science side of digital humanities compared to the text analysis side, unfortunately, I felt that I might have veered too far from the original spirit of the project. \n",
    "\n",
    "I encountered a suprising amount of difficulty trying to wrangle a large dataset with multiple types of data. It took more work than expected to clean the data, especially when I was not sure which data features I wanted to use in the first place. This ate up a lot of my time while working on the project. \n",
    "\n",
    "Honestly, perhaps the most difficult issue was staying organized. I had a lot of ideas I wanted to try out for this project, but keeping track of all of them wasn't easy. I was always trying to think about how to make different parts of the project accessible to each other."
   ]
  },
  {
   "cell_type": "markdown",
   "id": "78433965",
   "metadata": {},
   "source": [
    "## References\n",
    "\n",
    "* Coffee Quality Data, https://www.kaggle.com/datasets/fatihb/coffee-quality-data-cqi\n",
    "* CoffeeReview.com Reviews and Ratings, https://www.kaggle.com/datasets/fatihb/coffee-quality-data-cqi\""
   ]
  }
 ],
 "metadata": {
  "kernelspec": {
   "display_name": "Python 3 (ipykernel)",
   "language": "python",
   "name": "python3"
  },
  "language_info": {
   "codemirror_mode": {
    "name": "ipython",
    "version": 3
   },
   "file_extension": ".py",
   "mimetype": "text/x-python",
   "name": "python",
   "nbconvert_exporter": "python",
   "pygments_lexer": "ipython3",
   "version": "3.10.9"
  }
 },
 "nbformat": 4,
 "nbformat_minor": 5
}
